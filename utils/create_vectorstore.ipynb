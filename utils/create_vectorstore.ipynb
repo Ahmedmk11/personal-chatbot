{
 "cells": [
  {
   "cell_type": "code",
   "execution_count": null,
   "id": "5797cbe2",
   "metadata": {},
   "outputs": [],
   "source": [
    "from langchain.text_splitter import RecursiveCharacterTextSplitter\n",
    "from langchain_huggingface import HuggingFaceEmbeddings\n",
    "from langchain.vectorstores import FAISS\n",
    "import os"
   ]
  },
  {
   "cell_type": "code",
   "execution_count": null,
   "id": "80464e6e",
   "metadata": {},
   "outputs": [],
   "source": [
    "docs_path = \"../data/raw/\"\n",
    "documents = []\n",
    "\n",
    "document_infos = []\n",
    "\n",
    "for filename in os.listdir(docs_path):\n",
    "    if filename.endswith(\".txt\"):\n",
    "        with open(os.path.join(docs_path, filename), \"r\", encoding=\"utf-8\") as f:\n",
    "            text = f.read()\n",
    "            documents.append(text)\n",
    "            \n",
    "            metadata = {\n",
    "                \"filename\": filename,\n",
    "                \"type\": \"cv\" if \"cv\" in filename.lower() else \"project\" if \"project\" in filename.lower() else \"portfolio_section\"\n",
    "            }\n",
    "            document_infos.append(metadata)"
   ]
  },
  {
   "cell_type": "code",
   "execution_count": null,
   "id": "3de7c5e3",
   "metadata": {},
   "outputs": [],
   "source": [
    "text_splitter = RecursiveCharacterTextSplitter(\n",
    "    chunk_size=500,\n",
    "    chunk_overlap=50\n",
    ")\n",
    "\n",
    "docs_chunks = []\n",
    "metadatas = []\n",
    "\n",
    "for doc, meta in zip(documents, document_infos):\n",
    "    chunks = text_splitter.split_text(doc)\n",
    "    for chunk in chunks:\n",
    "        docs_chunks.append(chunk)\n",
    "        metadatas.append(meta)"
   ]
  },
  {
   "cell_type": "code",
   "execution_count": null,
   "id": "6e74957d",
   "metadata": {},
   "outputs": [],
   "source": [
    "embeddings_model = HuggingFaceEmbeddings(model_name=\"sentence-transformers/all-MiniLM-L6-v2\")"
   ]
  },
  {
   "cell_type": "code",
   "execution_count": null,
   "id": "9b105683",
   "metadata": {},
   "outputs": [],
   "source": [
    "vectorstore = FAISS.from_texts(docs_chunks, embeddings_model, metadatas=metadatas)"
   ]
  },
  {
   "cell_type": "code",
   "execution_count": null,
   "id": "617500aa",
   "metadata": {},
   "outputs": [],
   "source": [
    "vectorstore.save_local(\"../data/vectorstore\")\n",
    "\n",
    "print(\"Vector store created and saved in ../data/vectorstore\")"
   ]
  }
 ],
 "metadata": {
  "kernelspec": {
   "display_name": "venv",
   "language": "python",
   "name": "python3"
  },
  "language_info": {
   "name": "python",
   "version": "3.13.3"
  }
 },
 "nbformat": 4,
 "nbformat_minor": 5
}
