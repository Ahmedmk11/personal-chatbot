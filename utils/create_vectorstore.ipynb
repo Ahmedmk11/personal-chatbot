{
 "cells": [
  {
   "cell_type": "code",
   "execution_count": 2,
   "id": "5797cbe2",
   "metadata": {},
   "outputs": [],
   "source": [
    "from langchain.text_splitter import RecursiveCharacterTextSplitter\n",
    "from langchain_huggingface import HuggingFaceEmbeddings\n",
    "from langchain_community.vectorstores import FAISS\n",
    "import os"
   ]
  },
  {
   "cell_type": "code",
   "execution_count": 3,
   "id": "80464e6e",
   "metadata": {},
   "outputs": [],
   "source": [
    "docs_path = \"../data/raw/\"\n",
    "documents = []\n",
    "\n",
    "document_infos = []\n",
    "\n",
    "for filename in os.listdir(docs_path):\n",
    "    if filename.endswith(\".txt\"):\n",
    "        with open(os.path.join(docs_path, filename), \"r\", encoding=\"utf-8\") as f:\n",
    "            text = f.read()\n",
    "            documents.append(text)\n",
    "            \n",
    "            metadata = {\n",
    "                \"filename\": filename,\n",
    "                \"type\": \"cv\" if \"cv\" in filename.lower() else \"project\" if \"project\" in filename.lower() else \"portfolio_section\"\n",
    "            }\n",
    "            document_infos.append(metadata)"
   ]
  },
  {
   "cell_type": "code",
   "execution_count": 4,
   "id": "222ee02f",
   "metadata": {},
   "outputs": [
    {
     "data": {
      "text/plain": [
       "[{'filename': 'about_me_portfolio.txt', 'type': 'portfolio_section'},\n",
       " {'filename': 'bachelor_project.txt', 'type': 'project'},\n",
       " {'filename': 'cv.txt', 'type': 'cv'},\n",
       " {'filename': 'diablo_project.txt', 'type': 'project'},\n",
       " {'filename': 'education_portfolio.txt', 'type': 'portfolio_section'},\n",
       " {'filename': 'experience_portfolio.txt', 'type': 'portfolio_section'},\n",
       " {'filename': 'facial_recognition_project.txt', 'type': 'project'},\n",
       " {'filename': 'skills_portfolio.txt', 'type': 'portfolio_section'},\n",
       " {'filename': 'smart_chess_project.txt', 'type': 'project'},\n",
       " {'filename': 'splash_project.txt', 'type': 'project'},\n",
       " {'filename': 'sweepresort_project.txt', 'type': 'project'},\n",
       " {'filename': 'taskify_project.txt', 'type': 'project'},\n",
       " {'filename': 'vclinic_project.txt', 'type': 'project'},\n",
       " {'filename': 'zaki_project.txt', 'type': 'project'},\n",
       " {'filename': 'zombie_invasion_project.txt', 'type': 'project'}]"
      ]
     },
     "execution_count": 4,
     "metadata": {},
     "output_type": "execute_result"
    }
   ],
   "source": [
    "document_infos"
   ]
  },
  {
   "cell_type": "code",
   "execution_count": 5,
   "id": "5a579412",
   "metadata": {},
   "outputs": [
    {
     "data": {
      "text/plain": [
       "[\"Hi, I'm Ahmed\\nSoftware Engineer\\n\\nI'm a software engineer with a strong background in building scalable applications.\\nMy experience includes both frontend and backend, working with modern JavaScript frameworks. \\nI focus on delivering clean, efficient code and solving real world problems.\",\n",
       " 'Title: Breast Cancer Diagnosis System\\nCompany: Bachelor Project\\nGitHub: https://github.com/Ahmedmk11/breast-cancer-diagnosis\\nLink: https://doi.org/10.13140/RG.2.2.28574.24644\\nDescription: An embedded system for real-time breast cancer diagnosis using ultrasound imaging and a multi-stage CNN approach.\\nTools: Python, PyTorch, TensorFlow, Scikit-learn, Pandas, NumPy, Transfer Learning, ResNet-101, InceptionV3, Raspberry Pi 3, Bioinformatics, Computer Vision, Deep Learning, Embedded Systems\\nSignificance: 1\\nCompleted: True\\n',\n",
       " 'Ahmed Mahmoud\\nCairo, Egypt | ahmedmahmoudkzm@gmail.com | +20 1550800848\\nhttps://www.ahmedmahmoud.dev/\\nhttps://www.linkedin.com/in/ahmed-mahmoud-350b21214/\\nhttps://github.com/ahmedmk11/\\n\\nSUMMARY:\\nFull-stack software engineer experienced in React, Next.js, Node.js, Express, and NestJS. Skilled in building responsive frontends and scalable backend systems, with additional experience in computer vision and AI through my Raspberry Pi-based deep learning bachelor project.\\nTech Highlights: React, Next.js, Node.js, Express, NestJS, Python, MySQL, MongoDB, REST APIs\\n\\nWORK EXPERIENCE:\\n> Lead Full-Stack Software Engineer - Remote\\nSweep Resort | Charlotte, United States | Feb 2024 - July 2025\\n\\n* Led a small team in building the Sweep Resort website using ReactJS, Node.js, Express.js, and MySQL. improved responsiveness, automated workflows, and cut deposit handling time by 50%.\\n* Integrated payment processors, cryptocurrency gateways, and KYC systems, enabling secure transactions for 6500+ users and ensuring regulatory compliance.\\n* Collaborated directly with external partners to implement 6+ API integrations, including webhooks, callbacks, and custom authentication mechanisms.\\n* Automated internal tasks with Python and Stripe webhooks cutting down manual logging by 99.5%, saving the team ~5-6 hours per day.\\n\\n> Full-Stack Web Developer - Intern\\t\\nXceed | Cairo, Egypt | Aug 2023 - Sep 2023\\n\\n* Built a Task Management System using ReactJS, Vite, Firebase, and SCSS, increasing team coordination and reducing task tracking time.\\n* Developed a Face Recognition attendance tool with ReactJS, Flask, MySQL and Bootstrap, for remote check-ins.\\n\\n> Full-Stack Web Developer - Freelancer\\nSplash\\t| Cairo, Egypt | Jan 2023 - May 2023\\n\\n* Developed an e-commerce website for Splash using ReactJS, Node.js, Express.js and MongoDB.\\n\\nEDUCATION:\\nBachelor of Science in Computer Science and Engineering\\t\\t\\t\\t\\t\\t\\t     \\nGerman University in Cairo | Oct 2020 - June 2025\\n\\nBachelor Thesis: \"Embedded System for Ultrasound Breast Cancer Diagnosis\", built with ResNet-101, InceptionV3, and deployed on Raspberry Pi, graded \"A+\". Former IEEE Machine Learning Club member.\\nTech Highlights: Java, Spring, C++, Python, .NET, C#, SQL, React, Node.js, MongoDB, Express, Unity',\n",
       " 'Title: Diablo\\nCompany: GUC\\nDescription: A dark fantasy single-player action RPG inspired by the original Diablo game, where players battle as unique heroes, collecting runes to face the final boss, Lilith.\\nTools: Unity, C#, Game Development, 3D Graphics, Animation, Level Design\\nGitHub: https://github.com/Ahmedmk11/diablo\\nLink: None\\nCompleted: True\\n',\n",
       " 'Education:\\n\\nI studied Computer Science and Engineering at the German University in Cairo, where I focused on software development, AI, embedded systems and more. My graduation project used deep learning for breast cancer diagnosis and ran on a Raspberry Pi.\\nWorked on 40+ projects throughout my time in college from mini projects to large-scale systems including web apps, Unity games, embedded systems and more. Built a breast cancer diagnosis system using ResNet-101 and InceptionV3, deployed it on a Raspberry Pi 3 with a working GUI. Scored an A+ on the project. Also joined the IEEE Machine Learning Club and worked on applying deep learning to practical problems.\\n\\nB.Sc. Computer Science and Engineering\\nGerman University in Cairo | Oct 2020 – Jun 2025',\n",
       " \"Work Experience:\\n\\nI've contributed to building and maintaining production systems across different industries, with hands-on involvement in everything from architecture and development to deployment and integration. My work emphasizes reliability, clarity, and performance at every stage of the process.\\n\\n1- Lead Software Engineer\\nNashar Services LLC (Remote – USA) | Feb 2024 – July 2025\\n\\nDescription: Led a team of engineers to build and maintain a scalable web platform for Sweep Resort. Integrated multiple payment processors, cryptocurrency gateways, and KYC verification systems. Also managed technical partnerships with new providers, including payment and compliance vendors, to expand platform capabilities and streamline operations.\\n\\n2- Full-Stack Web Developer\\nSplash | Jan 2023 – May 2023 and Jul 2024 – Nov 2024\\n\\nDescription: Designed and developed a custom e-commerce website for Splash as a full-stack developer, collaborating directly with the client to deliver a tailored solution.\\n\\n3- Full-Stack Web Developer Intern\\nXceed | Aug 2023 – Sep 2023\\n\\nDescription: Built a task management system and a face recognition attendance tool during Xceed’s summer internship, using React, Firebase, and Flask in close collaboration with design and QA teams.\",\n",
       " 'Title: Facial Recognition System\\nCompany: Personal Project\\nDescription: A facial recognition system built with Python and OpenCV.\\nTools: Python, OpenCV, Deep Learning\\nGitHub: https://github.com/Ahmedmk11/facial-recognition-system\\nLink: None\\nCompleted: True\\n',\n",
       " 'Skills and Tech Stacks:\\n\\nI mainly work with React, Node.js, Express, and Vite, using both SQL and NoSQL databases such as MySQL, MongoDB, and Firestore.\\nI’ve built e-commerce sites, payment integrations, KYC systems, and internal tools like task managers and face recognition apps.\\nI’ve led teams and managed technical partnerships.\\nFor UI, I use Tailwind CSS, DaisyUI, Bootstrap, and Ant Design.\\nI also use Python for automation, AI and backend tasks.\\n\\nReactJS\\nNode.js\\nExpress.js\\nMongoDB\\nMySQL\\nFirebase\\nFirestore\\nPython\\nFlask\\nTailwind CSS\\nVite\\nAnt Design\\nDaisyUI\\nBootstrap\\nWebhooks\\nSockets\\nCallbacks\\nPayment Gateways\\nCrypto Integration\\nKYC Integration\\nMicrosoft Azure\\nNext.js\\nNestJS\\nTypeScript\\nAxios\\nFramer Motion\\n\\nDeep Learning\\nPyTorch\\nTensorFlow\\nScikit-learn\\nPandas\\nNumPy\\nTransfer Learning\\nComputer Vision\\n\\nEmbedded Systems\\nRaspberry Pi\\nMotor Control\\nGPIO\\n\\nC\\nC++\\nC#\\nJava\\n.NET\\nPython\\nSpring\\n\\nGame Development\\nUnity\\n2D Graphics\\n3D Graphics\\nAnimation\\nLevel Design\\n',\n",
       " 'Title: Smart Chess\\nCompany: GUC\\nDescription: A smart embedded chessboard using a Raspberry Pi Pico and electromagnets to automate gameplay with full chess logic and player feedback.\\nTools: C, Raspberry Pi Pico, Electromagnets, Chess Logic, Embedded Systems, Motor Control, GPIO\\nGitHub: https://github.com/Ahmedmk11/smart-chess\\nLink: None\\nCompleted: True\\n',\n",
       " 'Title: Splash\\nCompany: Splash\\nDescription: A furniture e-commerce website built with React and Node.js.\\nTools: React, Node.js, Express, MongoDB, JWT, REST API, Ant Design, Tailwind CSS, Vite\\nGitHub: https://github.com/Ahmedmk11/splash-v2\\nLink: https://www.splash-furniture.com/\\nCompleted: True\\n',\n",
       " 'Title: Sweep Resort\\nCompany: Nashar Services LLC\\nGitHub: None\\nLink: https://www.sweepresort.com/\\nDescription: A sweepstakes website built with React and Node.js.\\nTools: React, Node.js, Express, MySQL, JWT, REST API, Ant Design, Tailwind CSS, Vite\\nSignificance: 2\\nCompleted: True\\n',\n",
       " 'Title: Taskify\\nCompany: Xceed\\nDescription: A task management system built with React and Firebase.\\nTools: React, Firebase, Firestore, Authentication, Responsive Design, Material-UI, Ant Design\\nGitHub: https://github.com/Ahmedmk11/taskify\\nLink: https://taskmaster-231fe.web.app/login\\nCompleted: True\\n',\n",
       " 'Title: V-Clinic\\nCompany: GUC\\nDescription: A virtual clinic platform for appointment booking, medical records, prescriptions, and communication between patients, doctors, and clinics, with integrated pharmacy support.\\nTools: React, MongoDB, Node.js, Express, Axios, Stripe, Ant Design, REST API, JWT\\nGitHub: https://github.com/Ahmedmk11/v-clinc\\nLink: https://v-clinic-mauve.vercel.app/\\nCompleted: True\\n',\n",
       " 'Title: Zaki\\nCompany: Personal Project\\nDescription: An e-commerce website for high-quality extra virgin olive oil, designed to offer a smooth shopping experience with a clean interface and secure checkout.\\nTools: Next.js, NestJS, MongoDB, TypeScript, Tailwind CSS, Node.js, Axios, Framer Motion, React, E-commerce, Online Payment\\nGitHub: https://github.com/Ahmedmk11/zaki\\nLink: None\\nCompleted: False\\n',\n",
       " 'Title: Zombie Invasion 2\\nCompany: Personal Project\\nDescription: A simple 2D game with animations built using Pygame.\\nTools: Python, Pygame, Game Development, 2D Graphics, Animation, Collision Detection, Game Physics, Sprite Animation, Game Logic, Sound Effects, Level Design, Boss Fight\\nGitHub: https://github.com/Ahmedmk11/zombie-invasion-2\\nLink: None\\nCompleted: True\\n']"
      ]
     },
     "execution_count": 5,
     "metadata": {},
     "output_type": "execute_result"
    }
   ],
   "source": [
    "documents"
   ]
  },
  {
   "cell_type": "code",
   "execution_count": 6,
   "id": "3de7c5e3",
   "metadata": {},
   "outputs": [],
   "source": [
    "text_splitter = RecursiveCharacterTextSplitter(\n",
    "    chunk_size=500,\n",
    "    chunk_overlap=50\n",
    ")\n",
    "\n",
    "docs_chunks = []\n",
    "metadatas = []\n",
    "\n",
    "for doc, meta in zip(documents, document_infos):\n",
    "    chunks = text_splitter.split_text(doc)\n",
    "    for chunk in chunks:\n",
    "        docs_chunks.append(chunk)\n",
    "        metadatas.append(meta)"
   ]
  },
  {
   "cell_type": "code",
   "execution_count": 8,
   "id": "6e74957d",
   "metadata": {},
   "outputs": [
    {
     "name": "stderr",
     "output_type": "stream",
     "text": [
      "c:\\Users\\pc\\Desktop\\Work\\Personal\\personal-chatbot\\venv\\Lib\\site-packages\\tqdm\\auto.py:21: TqdmWarning: IProgress not found. Please update jupyter and ipywidgets. See https://ipywidgets.readthedocs.io/en/stable/user_install.html\n",
      "  from .autonotebook import tqdm as notebook_tqdm\n",
      "c:\\Users\\pc\\Desktop\\Work\\Personal\\personal-chatbot\\venv\\Lib\\site-packages\\huggingface_hub\\file_download.py:143: UserWarning: `huggingface_hub` cache-system uses symlinks by default to efficiently store duplicated files but your machine does not support them in C:\\Users\\pc\\.cache\\huggingface\\hub\\models--sentence-transformers--all-MiniLM-L6-v2. Caching files will still work but in a degraded version that might require more space on your disk. This warning can be disabled by setting the `HF_HUB_DISABLE_SYMLINKS_WARNING` environment variable. For more details, see https://huggingface.co/docs/huggingface_hub/how-to-cache#limitations.\n",
      "To support symlinks on Windows, you either need to activate Developer Mode or to run Python as an administrator. In order to activate developer mode, see this article: https://docs.microsoft.com/en-us/windows/apps/get-started/enable-your-device-for-development\n",
      "  warnings.warn(message)\n",
      "Xet Storage is enabled for this repo, but the 'hf_xet' package is not installed. Falling back to regular HTTP download. For better performance, install the package with: `pip install huggingface_hub[hf_xet]` or `pip install hf_xet`\n"
     ]
    }
   ],
   "source": [
    "embeddings_model = HuggingFaceEmbeddings(model_name=\"sentence-transformers/all-MiniLM-L6-v2\")"
   ]
  },
  {
   "cell_type": "code",
   "execution_count": 9,
   "id": "5f4dd1b3",
   "metadata": {},
   "outputs": [
    {
     "data": {
      "text/plain": [
       "HuggingFaceEmbeddings(model_name='sentence-transformers/all-MiniLM-L6-v2', cache_folder=None, model_kwargs={}, encode_kwargs={}, query_encode_kwargs={}, multi_process=False, show_progress=False)"
      ]
     },
     "execution_count": 9,
     "metadata": {},
     "output_type": "execute_result"
    }
   ],
   "source": [
    "embeddings_model"
   ]
  },
  {
   "cell_type": "code",
   "execution_count": 10,
   "id": "9b105683",
   "metadata": {},
   "outputs": [],
   "source": [
    "vectorstore = FAISS.from_texts(docs_chunks, embeddings_model, metadatas=metadatas)"
   ]
  },
  {
   "cell_type": "code",
   "execution_count": 11,
   "id": "617500aa",
   "metadata": {},
   "outputs": [
    {
     "name": "stdout",
     "output_type": "stream",
     "text": [
      "Vector store created and saved in ../data/vectorstore\n"
     ]
    }
   ],
   "source": [
    "vectorstore.save_local(\"../data/vectorstore\")\n",
    "\n",
    "print(\"Vector store created and saved in ../data/vectorstore\")"
   ]
  }
 ],
 "metadata": {
  "kernelspec": {
   "display_name": "venv",
   "language": "python",
   "name": "python3"
  },
  "language_info": {
   "codemirror_mode": {
    "name": "ipython",
    "version": 3
   },
   "file_extension": ".py",
   "mimetype": "text/x-python",
   "name": "python",
   "nbconvert_exporter": "python",
   "pygments_lexer": "ipython3",
   "version": "3.13.3"
  }
 },
 "nbformat": 4,
 "nbformat_minor": 5
}
